{
 "cells": [
  {
   "cell_type": "code",
   "execution_count": 1,
   "metadata": {},
   "outputs": [],
   "source": [
    "import numpy as np"
   ]
  },
  {
   "cell_type": "code",
   "execution_count": 2,
   "metadata": {},
   "outputs": [],
   "source": [
    "np.random.seed(48) "
   ]
  },
  {
   "cell_type": "code",
   "execution_count": 3,
   "metadata": {},
   "outputs": [],
   "source": [
    "students = np.array(['Abirov', 'Akhmetshin', 'Alabugin', 'Arsenina', 'Asapov', 'Batanina', 'Belgibayev', 'Borgalinov', 'Botnarenku', 'Chasova', 'Daniyar', 'Dubovitsky', 'Evdokimov', 'Gaivoronskiy', 'Gibadullin', 'Grigorev', 'Grigoryev', 'Gurov', 'Guryev', 'Ilalova', 'Khalitov', 'Khazhiev', 'Kim', 'Kireyev', 'Kopzhassarov', 'Kuleykin', 'Kuzmin', 'Levchenko', 'Lyagaev', 'Matyashov', 'Mukhametzyanov', 'Murzakov', 'Nazyrov', 'Nikolaev', 'Pinigin', 'Romanov', 'Salakhutdinov', 'Salikhzyanov', 'Samatov', 'Sayakhov', 'Shaykhutdinova', 'Shin', 'Sorokin', 'Sultanov', 'Tarasau', 'Tolparov', 'Tuktarov', 'Turenko', 'Ustinov', 'Vakhitova', 'Valeev', 'Valiev', 'Vilyunov', 'Volobuev', 'Yalalov', 'Yashkina', 'Zakharov', 'Zalyaev'])"
   ]
  },
  {
   "cell_type": "code",
   "execution_count": 4,
   "metadata": {},
   "outputs": [],
   "source": [
    "np.random.shuffle(students)"
   ]
  },
  {
   "cell_type": "code",
   "execution_count": 5,
   "metadata": {},
   "outputs": [
    {
     "data": {
      "text/plain": [
       "array(['Kopzhassarov', 'Akhmetshin', 'Gibadullin', 'Chasova',\n",
       "       'Botnarenku', 'Zakharov', 'Dubovitsky', 'Arsenina', 'Borgalinov',\n",
       "       'Yalalov', 'Kireyev', 'Khalitov', 'Shin', 'Tolparov', 'Nazyrov',\n",
       "       'Ilalova', 'Vilyunov', 'Kuzmin', 'Evdokimov', 'Batanina',\n",
       "       'Tuktarov', 'Samatov', 'Sultanov', 'Nikolaev', 'Yashkina',\n",
       "       'Daniyar', 'Gaivoronskiy', 'Salikhzyanov', 'Shaykhutdinova',\n",
       "       'Sorokin', 'Salakhutdinov', 'Sayakhov', 'Kuleykin', 'Khazhiev',\n",
       "       'Romanov', 'Guryev', 'Alabugin', 'Mukhametzyanov', 'Grigorev',\n",
       "       'Turenko', 'Volobuev', 'Murzakov', 'Kim', 'Vakhitova', 'Matyashov',\n",
       "       'Tarasau', 'Grigoryev', 'Lyagaev', 'Pinigin', 'Valeev',\n",
       "       'Belgibayev', 'Zalyaev', 'Ustinov', 'Levchenko', 'Asapov', 'Gurov',\n",
       "       'Valiev', 'Abirov'], dtype='<U14')"
      ]
     },
     "execution_count": 5,
     "metadata": {},
     "output_type": "execute_result"
    }
   ],
   "source": [
    "students"
   ]
  },
  {
   "cell_type": "code",
   "execution_count": 6,
   "metadata": {},
   "outputs": [
    {
     "data": {
      "text/plain": [
       "array(['Volobuev', 'Ustinov', 'Kim', 'Sayakhov', 'Tolparov', 'Grigoryev',\n",
       "       'Evdokimov', 'Romanov', 'Salakhutdinov', 'Dubovitsky', 'Zalyaev',\n",
       "       'Guryev', 'Abirov', 'Turenko', 'Tuktarov', 'Borgalinov',\n",
       "       'Yashkina', 'Murzakov', 'Gaivoronskiy', 'Yalalov'], dtype='<U14')"
      ]
     },
     "execution_count": 6,
     "metadata": {},
     "output_type": "execute_result"
    }
   ],
   "source": [
    "np.random.choice(students, 20, replace=False)"
   ]
  }
 ],
 "metadata": {
  "kernelspec": {
   "display_name": "Python 3",
   "language": "python",
   "name": "python3"
  },
  "language_info": {
   "codemirror_mode": {
    "name": "ipython",
    "version": 3
   },
   "file_extension": ".py",
   "mimetype": "text/x-python",
   "name": "python",
   "nbconvert_exporter": "python",
   "pygments_lexer": "ipython3",
   "version": "3.6.7"
  }
 },
 "nbformat": 4,
 "nbformat_minor": 2
}
