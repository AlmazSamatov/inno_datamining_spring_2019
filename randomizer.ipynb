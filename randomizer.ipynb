{
 "cells": [
  {
   "cell_type": "code",
   "execution_count": 1,
   "metadata": {},
   "outputs": [],
   "source": [
    "import numpy as np"
   ]
  },
  {
   "cell_type": "code",
   "execution_count": 2,
   "metadata": {},
   "outputs": [],
   "source": [
    "np.random.seed(48) "
   ]
  },
  {
   "cell_type": "code",
   "execution_count": 3,
   "metadata": {},
   "outputs": [],
   "source": [
    "students = np.array(['Abirov', 'Akhmetshin', 'Alabugin', 'Arsenina', 'Asapov', 'Batanina', 'Belgibayev', 'Borgalinov', 'Botnarenku', 'Chasova', 'Daniyar', 'Dubovitsky', 'Evdokimov', 'Gaivoronskiy', 'Gibadullin', 'Grigorev', 'Grigoryev', 'Gurov', 'Guryev', 'Ilalova', 'Khalitov', 'Khazhiev', 'Kim', 'Kireyev', 'Kopzhassarov', 'Kuleykin', 'Kuzmin', 'Levchenko', 'Lyagaev', 'Matyashov', 'Mukhametzyanov', 'Murzakov', 'Nazyrov', 'Nikolaev', 'Pinigin', 'Podlipnova', 'Romanov', 'Rotaru', 'Salakhutdinov', 'Salikhzyanov', 'Samatov', 'Sayakhov', 'Shaykhutdinova', 'Shin', 'Sorokin', 'Sultanov', 'Tarasau', 'Tolparov', 'Tuktarov', 'Turenko', 'Ustinov', 'Vakhitova', 'Valeev', 'Valiev', 'Vilyunov', 'Volobuev', 'Yalalov', 'Yashkina', 'Zagirov', 'Zakharov', 'Zalyaev'])"
   ]
  },
  {
   "cell_type": "code",
   "execution_count": 4,
   "metadata": {},
   "outputs": [],
   "source": [
    "np.random.shuffle(students)"
   ]
  },
  {
   "cell_type": "code",
   "execution_count": 5,
   "metadata": {},
   "outputs": [
    {
     "data": {
      "text/plain": [
       "array(['Kopzhassarov', 'Akhmetshin', 'Gibadullin', 'Chasova',\n",
       "       'Botnarenku', 'Vilyunov', 'Dubovitsky', 'Arsenina', 'Borgalinov',\n",
       "       'Yashkina', 'Kireyev', 'Khalitov', 'Tolparov', 'Salakhutdinov',\n",
       "       'Nikolaev', 'Ilalova', 'Podlipnova', 'Kuzmin', 'Evdokimov',\n",
       "       'Batanina', 'Turenko', 'Sayakhov', 'Tarasau', 'Zakharov',\n",
       "       'Zagirov', 'Daniyar', 'Gaivoronskiy', 'Volobuev', 'Nazyrov',\n",
       "       'Shin', 'Sultanov', 'Rotaru', 'Shaykhutdinova', 'Kuleykin',\n",
       "       'Khazhiev', 'Romanov', 'Guryev', 'Alabugin', 'Mukhametzyanov',\n",
       "       'Grigorev', 'Samatov', 'Salikhzyanov', 'Ustinov', 'Yalalov',\n",
       "       'Murzakov', 'Kim', 'Valeev', 'Matyashov', 'Sorokin', 'Grigoryev',\n",
       "       'Lyagaev', 'Pinigin', 'Valiev', 'Belgibayev', 'Zalyaev',\n",
       "       'Tuktarov', 'Levchenko', 'Asapov', 'Gurov', 'Vakhitova', 'Abirov'],\n",
       "      dtype='<U14')"
      ]
     },
     "execution_count": 5,
     "metadata": {},
     "output_type": "execute_result"
    }
   ],
   "source": [
    "students"
   ]
  },
  {
   "cell_type": "code",
   "execution_count": 11,
   "metadata": {},
   "outputs": [
    {
     "data": {
      "text/plain": [
       "array(['Matyashov', 'Zagirov', 'Nazyrov', 'Akhmetshin', 'Valeev',\n",
       "       'Ustinov', 'Murzakov', 'Daniyar', 'Tolparov', 'Zalyaev',\n",
       "       'Khalitov', 'Chasova', 'Gurov', 'Sultanov', 'Guryev', 'Valiev',\n",
       "       'Romanov', 'Khazhiev', 'Salikhzyanov', 'Gibadullin'], dtype='<U14')"
      ]
     },
     "execution_count": 11,
     "metadata": {},
     "output_type": "execute_result"
    }
   ],
   "source": [
    "np.random.choice(students, 20, replace=False)"
   ]
  }
 ],
 "metadata": {
  "kernelspec": {
   "display_name": "Python 3",
   "language": "python",
   "name": "python3"
  },
  "language_info": {
   "codemirror_mode": {
    "name": "ipython",
    "version": 3
   },
   "file_extension": ".py",
   "mimetype": "text/x-python",
   "name": "python",
   "nbconvert_exporter": "python",
   "pygments_lexer": "ipython3",
   "version": "3.6.7"
  }
 },
 "nbformat": 4,
 "nbformat_minor": 2
}
